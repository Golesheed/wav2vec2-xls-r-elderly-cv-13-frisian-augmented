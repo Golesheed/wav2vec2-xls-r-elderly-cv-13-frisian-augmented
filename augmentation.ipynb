{
 "cells": [
  {
   "cell_type": "code",
   "execution_count": null,
   "metadata": {
    "scrolled": true
   },
   "outputs": [],
   "source": [
    "!pip install audiomentations\n",
    "!pip install numpy\n",
    "!pip install soundfile\n",
    "!pip install pydub\n",
    "!pip install audio2numpy"
   ]
  },
  {
   "cell_type": "code",
   "execution_count": null,
   "metadata": {},
   "outputs": [],
   "source": [
    "# # Download a static FFmpeg build and add it to PATH.\n",
    "# !curl https://johnvansickle.com/ffmpeg/releases/ffmpeg-release-amd64-static.tar.xz -o ffmpeg.tar.xz \\\n",
    "#  && tar -xf ffmpeg.tar.xz && rm ffmpeg.tar.xz\n",
    "ffmdir = !find . -iname ffmpeg-*-static\n",
    "path = %env PATH\n",
    "path = path + ':' + ffmdir[0]\n",
    "%env PATH $path\n",
    "print('')\n",
    "!which ffmpeg\n",
    "print('Done!')"
   ]
  },
  {
   "cell_type": "code",
   "execution_count": null,
   "metadata": {},
   "outputs": [],
   "source": [
    "!ffmpeg"
   ]
  },
  {
   "cell_type": "code",
   "execution_count": null,
   "metadata": {},
   "outputs": [],
   "source": [
    "from audiomentations import Compose, AddGaussianNoise, TimeMask, PitchShift, BandStopFilter, PolarityInversion, Gain\n",
    "import numpy as np\n",
    "from datasets import load_metric\n",
    "from audiomentations.augmentations.mp3_compression import Mp3Compression\n",
    "import soundfile as sf  # save data as wav file\n",
    "import pydub  # convert wav format to mp3\n",
    "import os\n",
    "import shutil\n",
    "import glob\n",
    "from pathlib import Path\n",
    "import audio2numpy as a2n"
   ]
  },
  {
   "cell_type": "code",
   "execution_count": null,
   "metadata": {},
   "outputs": [],
   "source": [
    "path = '/path/to/where/you/want/csv/folder/be'\n",
    "new_path = path + 'augmented_<name of augmentation>_audio'  # for every type of augment change name here\n",
    "os.makedirs(new_path)  # only once creates directory\n",
    "mp3_pre_augment = glob.glob('/path/to/audio/folder/*mp3')  # switch with path to location of mp3 files\n",
    "\n",
    "# Change p = 0 for augmentations you dont want to use and p = 1 to augmentation you want\n",
    "augment = Compose([\n",
    "    Gain(p=0),\n",
    "    PolarityInversion(p=0),\n",
    "    AddGaussianNoise(min_amplitude=0.001, max_amplitude=0.03, p=0),\n",
    "    # TimeMask(), # masks too much time in many cases\n",
    "    PitchShift(min_semitones=-6, max_semitones=8, p=0),\n",
    "    BandStopFilter(min_center_freq=60, max_center_freq=2500, min_bandwidth_fraction=0.1, max_bandwidth_fraction=0.4,\n",
    "                   p=1)\n",
    "])\n",
    "print('----------- Augmenting... ----------------')\n",
    "for mp3 in mp3_pre_augment:\n",
    "    filename = Path(mp3).stem\n",
    "    fullpath = '/path/to/audio/folder/' + filename + '.mp3'\n",
    "    x, sr = a2n.audio_from_file(fullpath)\n",
    "    augmented_samples = augment(samples=x, sample_rate=sr)\n",
    "    sf.write( new_path + '/' + 'name you want to give your augmented data' +  filename + '.wav', augmented_samples, sr)\n",
    "print('----------- Augmenting complete. ----------\\n\\n')\n",
    "\n",
    "print('----------- exporting to mp3... ----------------')\n",
    "wav_files = glob.glob(new_path + '/*wav')\n",
    "for wav in wav_files:\n",
    "    # print(wav)\n",
    "    mp3_file = os.path.splitext(wav)[0] + '.mp3'\n",
    "    sound_2 = pydub.AudioSegment.from_wav(wav)\n",
    "    sound_2.export(mp3_file, format=\"mp3\")\n",
    "    os.remove(wav)\n",
    "print('----------- exporting to mp3 complete. ----------\\n\\n')"
   ]
  }
 ],
 "metadata": {
  "kernelspec": {
   "display_name": "Python 3 (ipykernel)",
   "language": "python",
   "name": "python3"
  },
  "language_info": {
   "codemirror_mode": {
    "name": "ipython",
    "version": 3
   },
   "file_extension": ".py",
   "mimetype": "text/x-python",
   "name": "python",
   "nbconvert_exporter": "python",
   "pygments_lexer": "ipython3",
   "version": "3.9.6"
  }
 },
 "nbformat": 4,
 "nbformat_minor": 2
}
