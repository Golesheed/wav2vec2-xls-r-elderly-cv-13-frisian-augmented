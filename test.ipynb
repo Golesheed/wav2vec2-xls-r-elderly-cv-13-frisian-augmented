{
 "cells": [
  {
   "cell_type": "code",
   "execution_count": null,
   "metadata": {},
   "outputs": [],
   "source": [
    "!pip install datasets\n",
    "!pip install transformers\n",
    "!pip install torchaudio\n",
    "!pip install jiwer\n",
    "!pip install soundfile\n",
    "!pip install librosa\n",
    "!pip install evaluate"
   ]
  },
  {
   "cell_type": "code",
   "execution_count": null,
   "metadata": {},
   "outputs": [],
   "source": [
    "from transformers import pipeline\n",
    "from datasets import load_dataset, load_metric, Audio, ClassLabel, load_from_disk, Features, Value\n",
    "import evaluate"
   ]
  },
  {
   "cell_type": "code",
   "execution_count": null,
   "metadata": {},
   "outputs": [],
   "source": [
    "from huggingface_hub import notebook_login\n",
    "\n",
    "notebook_login()"
   ]
  },
  {
   "cell_type": "code",
   "execution_count": null,
   "metadata": {
    "scrolled": true
   },
   "outputs": [],
   "source": [
    "# age_groups = ['sixties', 'seventies', 'eighties', 'nineties']\n",
    "# # test = load_dataset('mozilla-foundation/common_voice_8_0', 'fy-NL', split='test')\n",
    "# # test_set_13 = test.filter(lambda sample: age_groups.count(sample[\"age\"]) == 1)\n",
    "\n",
    "# test = load_dataset('mozilla-foundation/common_voice_8_0', 'fy-NL', split='test', use_auth_token=True)"
   ]
  },
  {
   "cell_type": "code",
   "execution_count": null,
   "metadata": {},
   "outputs": [],
   "source": [
    "print(\"----------------- Loading Datasets... -----------------\")\n",
    "features = Features(\n",
    "    {\n",
    "        \"client_id\": Value(\"string\"),\n",
    "#         \"path\": Value(\"string\"),\n",
    "        \"path\": Audio(sampling_rate=48_000),\n",
    "        \"sentence\": Value(\"string\"),\n",
    "        \"up_votes\": Value(\"int64\"),\n",
    "        \"down_votes\": Value(\"int64\"),\n",
    "        \"age\": Value(\"string\"),\n",
    "        \"gender\": Value(\"string\"),\n",
    "        \"accents\": Value(\"string\"),\n",
    "        \"locale\": Value(\"string\"),\n",
    "        \"segment\": Value(\"string\"),\n",
    "    }\n",
    ")\n",
    "\n",
    "\n",
    "\n",
    "# To prepare the csv:\n",
    "# add column 'audio' with absolut path to the audio files (Excel function: =CONCAT('path/to/audio_files/folder' B2))\n",
    "test_from_csv = load_dataset('csv', data_files={'test': 'path/to/test.csv', },\n",
    "                                   data_dir=\"path/to/test/audio/folder\")\n",
    "\n",
    "test_from_csv = test_from_csv.cast(features)\n",
    "\n",
    "test_from_csv = test_from_csv.remove_columns(\n",
    "    [\"accents\", \"age\", \"client_id\", \"down_votes\", \"gender\", \"locale\", \"segment\", \"up_votes\"])\n",
    "\n",
    "test = test_from_csv['test']\n",
    "\n",
    "test['path']\n",
    "print(\"----------------- Loading Datasets complete. -----------------\\n\\n\")"
   ]
  },
  {
   "cell_type": "code",
   "execution_count": null,
   "metadata": {},
   "outputs": [],
   "source": [
    "import re\n",
    "chars_to_remove_regex = '[\\,\\?\\.\\!\\-\\;\\:\\\"\\“\\%\\‘\\”\\�\\']'\n",
    "\n",
    "def remove_special_characters(batch):\n",
    "    batch[\"sentence\"] = re.sub(chars_to_remove_regex, '', batch[\"sentence\"]).lower()\n",
    "    return batch\n",
    "\n",
    "test = test.map(remove_special_characters)"
   ]
  },
  {
   "cell_type": "code",
   "execution_count": null,
   "metadata": {},
   "outputs": [],
   "source": [
    "!git lfs"
   ]
  },
  {
   "cell_type": "code",
   "execution_count": null,
   "metadata": {
    "scrolled": false
   },
   "outputs": [],
   "source": [
    "import time\n",
    "\n",
    "start = time.time()\n",
    "transcriber = pipeline(\"automatic-speech-recognition\", model='huggingface/your-repo')\n",
    "wer = evaluate.load(\"wer\")\n",
    "\n",
    "labels = []\n",
    "preds = []\n",
    "i = 0\n",
    "\n",
    "for recording in test:\n",
    "    label = labels.append(recording['sentence'])\n",
    "    pred = preds.append(transcriber(recording['path'])['text'])\n",
    "    i += 1\n",
    "    print(str(i) + '/' + str(len(test)))\n",
    "    \n",
    "print(wer.compute(predictions=preds, references=labels))\n",
    "end = time.time()\n",
    "print(end - start)"
   ]
  }
 ],
 "metadata": {
  "kernelspec": {
   "display_name": "Python 3 (ipykernel)",
   "language": "python",
   "name": "python3"
  },
  "language_info": {
   "codemirror_mode": {
    "name": "ipython",
    "version": 3
   },
   "file_extension": ".py",
   "mimetype": "text/x-python",
   "name": "python",
   "nbconvert_exporter": "python",
   "pygments_lexer": "ipython3",
   "version": "3.9.6"
  }
 },
 "nbformat": 4,
 "nbformat_minor": 2
}
